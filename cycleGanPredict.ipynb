{
 "cells": [
  {
   "cell_type": "code",
   "execution_count": null,
   "metadata": {},
   "outputs": [],
   "source": [
    "import torch\n",
    "import torch.nn as nn\n",
    "import torch.optim as optim\n",
    "import warnings\n",
    "warnings.filterwarnings(\"ignore\")\n",
    "from torchvision.utils import save_image\n",
    "from torch.utils.data import DataLoader\n",
    "\n",
    "from units import CycleGANDataset,Mask_replace #  及数据集类 `CycleGANDataset`\n",
    "from models.generator import Generator # 已定义的生成器模型\n",
    "from models.discriminator import Discriminator # 已定义的判别器模型\n",
    "from tqdm import tqdm\n",
    "import cv2\n",
    "import numpy as np\n",
    "device = torch.device(\"cpu\")\n",
    "device = torch.device(\"cuda:0\" if torch.cuda.is_available() else \"cpu\")\n",
    "#使用模型生成图像\n",
    "#加载训练好的模型\n",
    "save_path='save/'\n",
    "import matplotlib.pyplot as plt\n",
    "dataset = CycleGANDataset()  # 自己定义的数据集\n",
    "dataloader = DataLoader(dataset, batch_size=5, shuffle=True)\n",
    "gen_A_to_B = Generator()\n",
    "gen_A_to_B.load_state_dict(torch.load(f\"{save_path}B2A/gen_B_to_A_{20}.pt\"))\n",
    "# gen_B_to_A = Generator()\n",
    "# gen_B_to_A.load_state_dict(torch.load(f\"{save_path}B2A/gen_B_to_A_{20}.pt\"))"
   ]
  },
  {
   "cell_type": "code",
   "execution_count": null,
   "metadata": {},
   "outputs": [],
   "source": [
    "#使用模型生成图像\n",
    "for i in range(3):\n",
    "    with torch.no_grad():\n",
    "        plt.figure(figsize=(8,4))\n",
    "        idx=np.random.randint(0,len(dataset))\n",
    "        print(idx)\n",
    "        A, _ , Mask= dataset[idx] #3\n",
    "        A = torch.Tensor(A).unsqueeze(0)\n",
    "        B = gen_A_to_B(A)\n",
    "        save_image(B.cpu(), f\"{save_path}generated_image.png\")\n",
    "        id=1342\n",
    "        plt.subplot(131)\n",
    "        plt.title('Original')\n",
    "        real_img=A.cpu()[0].numpy().transpose(1,2,0)\n",
    "        plt.imshow(real_img)\n",
    "        plt.subplot(132)\n",
    "        plt.title('Style')\n",
    "        # 将掩码转换为Numpy数组\n",
    "        fake_img=B.cpu()[0].numpy().transpose(1,2,0)\n",
    "        plt.imshow(fake_img)\n",
    "        # 显示掩码标签\n",
    "        plt.subplot(133)\n",
    "        plt.title('Transform')\n",
    "        plt.imshow(Mask_replace(real_img,fake_img,Mask))\n",
    "        plt.show()"
   ]
  },
  {
   "cell_type": "code",
   "execution_count": null,
   "metadata": {},
   "outputs": [],
   "source": []
  }
 ],
 "metadata": {
  "kernelspec": {
   "display_name": "biobase",
   "language": "python",
   "name": "python3"
  },
  "language_info": {
   "codemirror_mode": {
    "name": "ipython",
    "version": 3
   },
   "file_extension": ".py",
   "mimetype": "text/x-python",
   "name": "python",
   "nbconvert_exporter": "python",
   "pygments_lexer": "ipython3",
   "version": "3.9.12"
  },
  "orig_nbformat": 4,
  "vscode": {
   "interpreter": {
    "hash": "c4342b7b77d03aa170c0061ccc2d89deb9ee932a6281860c89ed54b64e098c02"
   }
  }
 },
 "nbformat": 4,
 "nbformat_minor": 2
}
